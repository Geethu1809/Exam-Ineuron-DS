{
  "nbformat": 4,
  "nbformat_minor": 0,
  "metadata": {
    "colab": {
      "provenance": []
    },
    "kernelspec": {
      "name": "python3",
      "display_name": "Python 3"
    },
    "language_info": {
      "name": "python"
    }
  },
  "cells": [
    {
      "cell_type": "markdown",
      "source": [
        "Python\n",
        "\n",
        "Question: 1\n",
        "\n",
        "Write an efficient algorithm that searches for a value target in an m x n integer matrix. This matrix has the following properties:\n",
        "\n",
        "Integers in each row are sorted from right to left.\n",
        "\n",
        "The first integer of each row is greater than the last integer of the previous row.\n",
        "\n",
        "                              Example-:\n",
        "\n",
        "                                        Input: matrix = [[1,3,5,7],[10,11,16,20],[23,30,34,60]], target = 3\n",
        "\n",
        "                                         Output: True"
      ],
      "metadata": {
        "id": "dG11vg9YPINj"
      }
    },
    {
      "cell_type": "code",
      "source": [
        "def searchMatrix(matrix, target):\n",
        "    if not matrix or not matrix[0]:\n",
        "        return False\n",
        "\n",
        "    rows, cols = len(matrix), len(matrix[0])\n",
        "    row, col = 0, cols - 1\n",
        "\n",
        "    while row < rows and col >= 0:\n",
        "        current_element = matrix[row][col]\n",
        "\n",
        "        if current_element == target:\n",
        "            return True\n",
        "        elif current_element < target:\n",
        "            row += 1  # Move to the next row\n",
        "        else:\n",
        "            col -= 1  # Move to the previous column\n",
        "\n",
        "    return False\n",
        "\n",
        "matrix = [[1, 3, 5, 7], [10, 11, 16, 20], [23, 30, 34, 60]]\n",
        "target = 3\n",
        "result = searchMatrix(matrix, target)\n",
        "print(result)\n"
      ],
      "metadata": {
        "colab": {
          "base_uri": "https://localhost:8080/"
        },
        "id": "15F04BcSPPHA",
        "outputId": "4fa216bd-e402-4ee4-f98b-2d0ecc041e62"
      },
      "execution_count": 4,
      "outputs": [
        {
          "output_type": "stream",
          "name": "stdout",
          "text": [
            "True\n"
          ]
        }
      ]
    },
    {
      "cell_type": "markdown",
      "source": [
        "Question: 2\n",
        "\n",
        "2.  Write a program that takes a string as input, and counts the frequency of each word in the string, there might  be repeated characters in the string. Your task is to find the highest frequency and returns the length of the  highest-frequency word.\n",
        "\n",
        "Note - You have to write at least 2 additional test cases in which your program will run successfully and provide  an explanation for the same.  \n",
        "\n",
        "Example input - string = “write write write all the number from from from 1 to 100”\n",
        "\n",
        "Example output - 5\n",
        "\n",
        "Explanation - From the given string we can note that the most frequent words are “write” and “from” and  the maximum value of both the values is “write” and its corresponding length is 5"
      ],
      "metadata": {
        "id": "XVPqF4OAPg9N"
      }
    },
    {
      "cell_type": "code",
      "source": [
        "def highest_frequency_word_length(input_string):\n",
        "    words = input_string.split()\n",
        "    word_frequency = {}\n",
        "\n",
        "    for word in words:\n",
        "        word_frequency[word] = word_frequency.get(word, 0) + 1\n",
        "\n",
        "    if not word_frequency:\n",
        "        return 0  # No words in the string\n",
        "\n",
        "    max_frequency = max(word_frequency.values())\n",
        "    max_frequency_words = [word for word, freq in word_frequency.items() if freq == max_frequency]\n",
        "\n",
        "    # Find the length of the first word with the highest frequency\n",
        "    max_length = len(max_frequency_words[0])\n",
        "\n",
        "    return max_length\n",
        "\n",
        "input_string = \"write write write all the number from from from 1 to 100\"\n",
        "output = highest_frequency_word_length(input_string)\n",
        "print(output)\n"
      ],
      "metadata": {
        "colab": {
          "base_uri": "https://localhost:8080/"
        },
        "id": "-KRVB7_vPiDJ",
        "outputId": "feecf450-28fc-4b66-feb2-f921a00d4b07"
      },
      "execution_count": 5,
      "outputs": [
        {
          "output_type": "stream",
          "name": "stdout",
          "text": [
            "5\n"
          ]
        }
      ]
    },
    {
      "cell_type": "code",
      "source": [
        "input_string_numbers = \"1 2 3 4 5 1 2 3 4 5 6 7\"\n",
        "output_numbers = highest_frequency_word_length(input_string_numbers)\n",
        "print(output_numbers)\n"
      ],
      "metadata": {
        "colab": {
          "base_uri": "https://localhost:8080/"
        },
        "id": "2T3rMe4xQO6l",
        "outputId": "5fcaa896-359b-4bcc-a99f-5dad764eea17"
      },
      "execution_count": 6,
      "outputs": [
        {
          "output_type": "stream",
          "name": "stdout",
          "text": [
            "1\n"
          ]
        }
      ]
    },
    {
      "cell_type": "markdown",
      "source": [],
      "metadata": {
        "id": "k5qRT5XQQX51"
      }
    },
    {
      "cell_type": "code",
      "source": [],
      "metadata": {
        "id": "wXOPIiluQVH0"
      },
      "execution_count": null,
      "outputs": []
    }
  ]
}